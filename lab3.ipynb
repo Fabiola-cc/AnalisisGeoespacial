{
 "cells": [
  {
   "cell_type": "markdown",
   "id": "30a50d74",
   "metadata": {},
   "source": [
    "# Laboratorio 3. Análisis GeoEspacial y Sensores Remotos\n",
    "- Fabiola Contreras 22787\n",
    "- María José Villafuerte 22129"
   ]
  },
  {
   "cell_type": "markdown",
   "id": "43731b5b",
   "metadata": {},
   "source": [
    "## Carga de datos y NVDI"
   ]
  },
  {
   "cell_type": "code",
   "execution_count": null,
   "id": "e0d315a0",
   "metadata": {},
   "outputs": [],
   "source": [
    "import rasterio\n",
    "import numpy as np\n",
    "\n",
    "# Función para calcular NDVI dado un path, banda NIR y banda Rojo\n",
    "def calcular_ndvi(ruta, banda_nir, banda_rojo):\n",
    "    with rasterio.open(ruta) as src:\n",
    "        nir = src.read(banda_nir).astype(\"float32\")\n",
    "        rojo = src.read(banda_rojo).astype(\"float32\")\n",
    "        \n",
    "        # Evitar división por cero\n",
    "        ndvi = (nir - rojo) / (nir + rojo + 1e-10)\n",
    "        \n",
    "        perfil = src.profile  # Guardamos metadatos para exportar luego\n",
    "    return ndvi, perfil\n",
    "\n",
    "# Rutas a los archivos\n",
    "ruta_2020 = \"imagen_2020.tiff\"\n",
    "ruta_2024 = \"imagen_2024.tiff\"\n",
    "\n",
    "# Calcular NDVI para cada año (ejemplo: banda Rojo=4, banda NIR=8)\n",
    "ndvi_2020, perfil = calcular_ndvi(ruta_2020, banda_nir=8, banda_rojo=4)\n",
    "ndvi_2024, _ = calcular_ndvi(ruta_2024, banda_nir=8, banda_rojo=4)"
   ]
  },
  {
   "cell_type": "code",
   "execution_count": null,
   "id": "7d2813dc",
   "metadata": {},
   "outputs": [],
   "source": [
    "ndvi_diff = ndvi_2024 - ndvi_2020\n",
    "\n",
    "umbral = -0.2\n",
    "perdida = ndvi_diff < umbral  # Esto es un array booleano"
   ]
  },
  {
   "cell_type": "markdown",
   "id": "d30bd225",
   "metadata": {},
   "source": [
    "## Visualización"
   ]
  },
  {
   "cell_type": "code",
   "execution_count": null,
   "id": "e3218c46",
   "metadata": {},
   "outputs": [],
   "source": [
    "import matplotlib.pyplot as plt\n",
    "\n",
    "fig, axs = plt.subplots(1, 4, figsize=(18, 5))\n",
    "\n",
    "# NDVI 2020\n",
    "im1 = axs[0].imshow(ndvi_2020, cmap='RdYlGn', vmin=-1, vmax=1)\n",
    "axs[0].set_title(\"NDVI 2020\")\n",
    "fig.colorbar(im1, ax=axs[0], fraction=0.046, pad=0.04)\n",
    "\n",
    "# NDVI 2024\n",
    "im2 = axs[1].imshow(ndvi_2024, cmap='RdYlGn', vmin=-1, vmax=1)\n",
    "axs[1].set_title(\"NDVI 2024\")\n",
    "fig.colorbar(im2, ax=axs[1], fraction=0.046, pad=0.04)\n",
    "\n",
    "# Diferencia NDVI\n",
    "im3 = axs[2].imshow(ndvi_diff, cmap='bwr', vmin=-1, vmax=1)\n",
    "axs[2].set_title(\"Diferencia NDVI (2024 - 2020)\")\n",
    "fig.colorbar(im3, ax=axs[2], fraction=0.046, pad=0.04)\n",
    "\n",
    "# Máscara de deforestación\n",
    "im4 = axs[3].imshow(perdida, cmap='gray')\n",
    "axs[3].set_title(\"Máscara Deforestación\")\n",
    "fig.colorbar(im4, ax=axs[3], fraction=0.046, pad=0.04)\n",
    "\n",
    "for ax in axs:\n",
    "    ax.axis('off')\n",
    "\n",
    "plt.tight_layout()\n",
    "plt.show()\n"
   ]
  },
  {
   "cell_type": "markdown",
   "id": "27a4e555",
   "metadata": {},
   "source": [
    "## Área de deforestación"
   ]
  },
  {
   "cell_type": "code",
   "execution_count": null,
   "id": "b9242713",
   "metadata": {},
   "outputs": [],
   "source": [
    "import rasterio\n",
    "\n",
    "# Leemos la resolución espacial (tamaño de pixel)\n",
    "with rasterio.open(ruta_2020) as src:\n",
    "    resol_x, resol_y = src.res  # tamaño de pixel en unidades del CRS (generalmente metros)\n",
    "\n",
    "# Área por pixel (en m²)\n",
    "area_pixel = abs(resol_x * resol_y)\n",
    "\n",
    "# Contar pixeles con pérdida de vegetación\n",
    "pixeles_perdida = np.sum(perdida)\n",
    "\n",
    "# Calcular área total de pérdida\n",
    "area_perdida_m2 = pixeles_perdida * area_pixel\n",
    "area_perdida_km2 = area_perdida_m2 / 1e6\n",
    "\n",
    "# Calcular porcentaje respecto al área total analizada\n",
    "area_total_m2 = perdida.size * area_pixel\n",
    "porcentaje_perdida = (area_perdida_m2 / area_total_m2) * 100\n",
    "\n",
    "print(f\"Área pérdida: {area_perdida_km2:.2f} km²\")\n",
    "print(f\"Porcentaje pérdida: {porcentaje_perdida:.2f} %\")"
   ]
  }
 ],
 "metadata": {
  "language_info": {
   "name": "python"
  }
 },
 "nbformat": 4,
 "nbformat_minor": 5
}
